{
 "cells": [
  {
   "cell_type": "code",
   "execution_count": 1,
   "id": "56356ff5",
   "metadata": {},
   "outputs": [
    {
     "name": "stdout",
     "output_type": "stream",
     "text": [
      "Please enter your name:ada\n",
      "Please leave\n"
     ]
    }
   ],
   "source": [
    "#list of names of employees\n",
    "lis1 = ['Ada', 'Tolu', 'Fola', 'Grace', 'Mercy', 'Chika', 'Dayo', 'Sandra', 'Ade', 'Yemi', 'Lexi', 'Tayo', 'Susan', 'Ayo', 'West']\n",
    "\n",
    "#taking input from the user\n",
    "name= input('Please enter your name:')\n",
    "if name in lis1:\n",
    "    print(\"You are welcome\")\n",
    "else:\n",
    "     print(\"Please leave\")"
   ]
  },
  {
   "cell_type": "code",
   "execution_count": null,
   "id": "9954e899",
   "metadata": {},
   "outputs": [],
   "source": [
    "#ask people to input location and weight of their package\n",
    "location = input(\"What location would u like us to deliever to, PAU or Epe:\")\n",
    "size = int(input(\"what is the weight of the package:\"))\n",
    "if location == \"PAU\" and size >= 10:\n",
    "    print(\"That would be #2000\")\n",
    "elif location == \"PAU\" and size < 10:\n",
    "      print(\"That would be #1500\")\n",
    "elif location == \"Epe\" and size >= 10:\n",
    "       print(\"That would be #5000\")\n",
    "elif location == \"Epe\" and size < 10:\n",
    "      print(\"That would be #4000\")\n",
    "else:\n",
    "            print(\"we do not deliever there\")\n",
    "                                  \n",
    " \n"
   ]
  },
  {
   "cell_type": "code",
   "execution_count": null,
   "id": "2d344ff3",
   "metadata": {},
   "outputs": [],
   "source": [
    "score = int(input(\"What was your score in Jamb\"))\n",
    "grade = input(\"Do you have 5 credits in your key subjects\")\n",
    "\n"
   ]
  },
  {
   "cell_type": "code",
   "execution_count": null,
   "id": "4b4360b0",
   "metadata": {},
   "outputs": [],
   "source": []
  },
  {
   "cell_type": "code",
   "execution_count": null,
   "id": "fb1da7a8",
   "metadata": {},
   "outputs": [],
   "source": []
  }
 ],
 "metadata": {
  "kernelspec": {
   "display_name": "Python 3",
   "language": "python",
   "name": "python3"
  },
  "language_info": {
   "codemirror_mode": {
    "name": "ipython",
    "version": 3
   },
   "file_extension": ".py",
   "mimetype": "text/x-python",
   "name": "python",
   "nbconvert_exporter": "python",
   "pygments_lexer": "ipython3",
   "version": "3.8.8"
  }
 },
 "nbformat": 4,
 "nbformat_minor": 5
}
