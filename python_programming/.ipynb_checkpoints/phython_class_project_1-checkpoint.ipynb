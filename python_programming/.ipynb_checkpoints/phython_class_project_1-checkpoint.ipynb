{
 "cells": [
  {
   "cell_type": "code",
   "execution_count": 1,
   "id": "e98ab4ba",
   "metadata": {},
   "outputs": [
    {
     "name": "stdout",
     "output_type": "stream",
     "text": [
      "Karo =  30\n",
      "Oyinda = 29\n"
     ]
    }
   ],
   "source": [
    "# Python program to swap two variables\n",
    "\n",
    "Karo = 29\n",
    "Oyinda = 30\n",
    "\n",
    "# To take inputs from the user\n",
    "#Karo = input('Enter value of Karo: ')\n",
    "#Oyinda = input('Enter value of Oyinda: ')\n",
    "\n",
    "# create a temporary variable and swap the values\n",
    "temp = Karo\n",
    "Karo = Oyinda\n",
    "Oyinda = temp\n",
    "\n",
    "print('Karo =  {}'.format(Karo))\n",
    "print('Oyinda = {}'.format(Oyinda))\n"
   ]
  }
 ],
 "metadata": {
  "kernelspec": {
   "display_name": "Python 3",
   "language": "python",
   "name": "python3"
  },
  "language_info": {
   "codemirror_mode": {
    "name": "ipython",
    "version": 3
   },
   "file_extension": ".py",
   "mimetype": "text/x-python",
   "name": "python",
   "nbconvert_exporter": "python",
   "pygments_lexer": "ipython3",
   "version": "3.8.8"
  }
 },
 "nbformat": 4,
 "nbformat_minor": 5
}
