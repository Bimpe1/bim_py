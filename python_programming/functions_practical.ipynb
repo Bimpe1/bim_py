{
 "cells": [
  {
   "cell_type": "code",
   "execution_count": 9,
   "id": "b9211202",
   "metadata": {},
   "outputs": [
    {
     "name": "stdout",
     "output_type": "stream",
     "text": [
      "Please enter your name:Ada\n",
      "You are welcome\n"
     ]
    }
   ],
   "source": [
    "def verify():\n",
    "    #list of names of employees\n",
    "    lis1 = ['Ada', 'Tolu', 'Fola', 'Grace', 'Mercy', 'Chika', 'Dayo', 'Sandra', 'Ade', 'Yemi', 'Lexi', 'Tayo', 'Susan', 'Ayo', 'West']\n",
    "    #taking input from the user\n",
    "    name= input('Please enter your name:')\n",
    "    if name in lis1:\n",
    "        print(\"You are welcome\")\n",
    "    else:\n",
    "         print(\"Please leave\")\n",
    "verify()        "
   ]
  },
  {
   "cell_type": "code",
   "execution_count": 10,
   "id": "d56ca1a5",
   "metadata": {},
   "outputs": [
    {
     "name": "stdout",
     "output_type": "stream",
     "text": [
      "What location would u like us to deliever to, PAU or Epe:Epe\n",
      "what is the weight of the package(kg):10\n",
      "That would be #5000\n"
     ]
    }
   ],
   "source": [
    "def verify():\n",
    "    #ask people to input location and weight of their package\n",
    "    location = input(\"What location would u like us to deliever to, PAU or Epe:\")\n",
    "    size = int(input(\"what is the weight of the package(kg):\"))\n",
    "    if location == \"PAU\" and size >= 10:\n",
    "        print(\"That would be #2000\")\n",
    "    elif location == \"PAU\" and size < 10:\n",
    "        print(\"That would be #1500\")\n",
    "    elif location == \"Epe\" and size >= 10:\n",
    "        print(\"That would be #5000\")\n",
    "    elif location == \"Epe\" and size < 10:\n",
    "        print(\"That would be #4000\")\n",
    "    else:\n",
    "        print(\"we do not deliever there\")\n",
    "verify()        \n",
    "        \n",
    "                           "
   ]
  },
  {
   "cell_type": "code",
   "execution_count": null,
   "id": "7c317ad3",
   "metadata": {},
   "outputs": [
    {
     "name": "stdout",
     "output_type": "stream",
     "text": [
      "Welcome to Computer Science Admissions Board\n"
     ]
    }
   ],
   "source": [
    "def verify():\n",
    "        print(\"Welcome to Computer Science Admissions Board\")\n",
    "        score = int(input(\"What was your score in Jamb:\"))\n",
    "        grade = input(\"Do you have 5 credits in your key subjects. Yes/No:\")\n",
    "        if score >= 230 and grade == \"Yes\":\n",
    "            print(\"Go ahead for the interview\")\n",
    "        else:\n",
    "            print(\"We are sorry but you are not qualified to take the interview\")\n",
    "        if grade == \"Yes\" and score >=230:\n",
    "            interviewstatus = input(\"Did you pass the interview. Yes/No:\")\n",
    "        if interviewstatus == \"Yes\":\n",
    "            print(\"Welcome to Computer Science Department\")\n",
    "        else:\n",
    "            print(\"We regret to inform you that you have not been given admission.\")\n",
    "verify()        \n"
   ]
  },
  {
   "cell_type": "code",
   "execution_count": null,
   "id": "50ffacb1",
   "metadata": {},
   "outputs": [],
   "source": []
  },
  {
   "cell_type": "code",
   "execution_count": null,
   "id": "8c1a2869",
   "metadata": {},
   "outputs": [],
   "source": []
  }
 ],
 "metadata": {
  "kernelspec": {
   "display_name": "Python 3",
   "language": "python",
   "name": "python3"
  },
  "language_info": {
   "codemirror_mode": {
    "name": "ipython",
    "version": 3
   },
   "file_extension": ".py",
   "mimetype": "text/x-python",
   "name": "python",
   "nbconvert_exporter": "python",
   "pygments_lexer": "ipython3",
   "version": "3.8.8"
  }
 },
 "nbformat": 4,
 "nbformat_minor": 5
}
