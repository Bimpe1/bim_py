{
 "cells": [
  {
   "cell_type": "code",
   "execution_count": 1,
   "id": "d3720d28",
   "metadata": {},
   "outputs": [
    {
     "name": "stdout",
     "output_type": "stream",
     "text": [
      "Input a:1\n",
      "Input b:-7\n",
      "Input c:1\n"
     ]
    },
    {
     "data": {
      "text/plain": [
       "(6.854101966249685, 0.1458980337503153)"
      ]
     },
     "execution_count": 1,
     "metadata": {},
     "output_type": "execute_result"
    }
   ],
   "source": [
    "def quad(a,b,c):\n",
    "    import math\n",
    "    return (-b + math.sqrt(b**2 - 4*a*c))/2*a ,(-b - math.sqrt(b**2 - 4*a*c))/2*a\n",
    "a= int(input(\"Input a:\"))\n",
    "b= int(input(\"Input b:\"))\n",
    "c= int(input(\"Input c:\"))\n",
    "quad(a,b,c) \n"
   ]
  },
  {
   "cell_type": "code",
   "execution_count": 7,
   "id": "a503a00b",
   "metadata": {},
   "outputs": [
    {
     "name": "stdout",
     "output_type": "stream",
     "text": [
      "Please enter name:SUSAN\n",
      "absent\n"
     ]
    }
   ],
   "source": [
    "#This is a program to take the rollcall of students in class\n",
    "def roll_call():\n",
    "    students= (\"David\",\"Ada\",\"Oyinda\",\"Daniel\",\"James\",\"John\",\"Anna\",\"Bola\",\"Kelvin\",\"Sean\")\n",
    "    name= input(\"Please enter name:\")\n",
    "    if name in students:\n",
    "        print(\"present\")   \n",
    "    else:\n",
    "        print(\"absent\")\n",
    "roll_call()    \n",
    "\n"
   ]
  },
  {
   "cell_type": "code",
   "execution_count": 24,
   "id": "f03f2d7f",
   "metadata": {},
   "outputs": [
    {
     "name": "stdout",
     "output_type": "stream",
     "text": [
      "Enter your name:David\n",
      "Your score is: 60\n"
     ]
    }
   ],
   "source": [
    "def score():\n",
    "    students = {\"David\":60,\"Ada\":70,\"Oyinda\":23,\"Daniel\":66,\"James\":90,\"John\":88,\"Anna\":77,\"Bola\":79,\"Kelvin\":80,\"Sean\":93,\"Drake\":65,\"Ray\":66,\"Fola\":55,\"Öla\":44,\"Grace\":66}\n",
    "    name= input(\"Enter your name:\")\n",
    "    print(\"Your score is:\", students[name])\n",
    "score()"
   ]
  },
  {
   "cell_type": "code",
   "execution_count": null,
   "id": "0bd7460c",
   "metadata": {},
   "outputs": [],
   "source": []
  },
  {
   "cell_type": "code",
   "execution_count": null,
   "id": "4609400a",
   "metadata": {},
   "outputs": [],
   "source": []
  }
 ],
 "metadata": {
  "kernelspec": {
   "display_name": "Python 3",
   "language": "python",
   "name": "python3"
  },
  "language_info": {
   "codemirror_mode": {
    "name": "ipython",
    "version": 3
   },
   "file_extension": ".py",
   "mimetype": "text/x-python",
   "name": "python",
   "nbconvert_exporter": "python",
   "pygments_lexer": "ipython3",
   "version": "3.8.8"
  }
 },
 "nbformat": 4,
 "nbformat_minor": 5
}
